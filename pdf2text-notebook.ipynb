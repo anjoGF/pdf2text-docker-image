{
 "cells": [
  {
   "cell_type": "code",
   "execution_count": 2,
   "metadata": {},
   "outputs": [
    {
     "name": "stdout",
     "output_type": "stream",
     "text": [
      "Overwriting preprocess.py\n"
     ]
    }
   ],
   "source": [
    "%%writefile preprocess.py\n",
    "\n",
    "import pandas as pd\n",
    "import os, glob\n",
    "import requests\n",
    "import sys, argparse\n",
    "from urllib.parse import urljoin\n",
    "from bs4 import BeautifulSoup\n",
    "from urllib.parse import urljoin\n",
    "from bs4 import BeautifulSoup\n",
    "from pdfminer.converter import TextConverter\n",
    "from pdfminer.layout import LAParams\n",
    "from pdfminer.pdfdocument import PDFDocument\n",
    "from pdfminer.pdfinterp import PDFResourceManager, PDFPageInterpreter\n",
    "from pdfminer.pdfpage import PDFPage\n",
    "from pdfminer.pdfparser import PDFParser\n",
    "from pdfminer.high_level import extract_pages, extract_text\n",
    "import flask\n",
    "from flask import Flask, jsonify, request\n",
    "import json\n",
    "import texthero as hero\n",
    "from texthero import preprocessing\n",
    "\n",
    "app = Flask(__name__)\n",
    "\n",
    "def cleanText(df):\n",
    "    \"\"\"\n",
    "    texthero is a text preprocessing library \n",
    "    the library leverages the pandas pipe to chain \n",
    "    various preprocessing functions  \n",
    "    \"\"\"\n",
    "    custom_pipeline = [preprocessing.fillna,\n",
    "                       preprocessing.lowercase,\n",
    "                       preprocessing.remove_whitespace,\n",
    "                       preprocessing.remove_punctuation,\n",
    "                       preprocessing.remove_diacritics,\n",
    "                       preprocessing.remove_stopwords]\n",
    "\n",
    "    df['clean_text'] = hero.clean(df['Text'], custom_pipeline)\n",
    "    df['clean_text'] = [n.replace('{','') for n in df['clean_text']]\n",
    "    df['clean_text'] = [n.replace('}','') for n in df['clean_text']]\n",
    "    df['clean_text'] = [n.replace('(','') for n in df['clean_text']]\n",
    "    df['clean_text'] = [n.replace(')','') for n in df['clean_text']]\n",
    "    df = df[['PDF_Name','clean_text']]\n",
    "    return df\n",
    "\n",
    "def pdf_to_text(args):\n",
    "    \"\"\"\"\n",
    "    Overview: \n",
    "    1. loop through the pdfs and run pdfminer extract_text \n",
    "    2. Place data in a dataframe, zip and compress the file\n",
    "    \"\"\"\n",
    "    PATH = args.folder_path\n",
    "    ext = \"*.pdf\"\n",
    "    files = []\n",
    "    for root, dirs, names in os.walk(PATH):\n",
    "        files += glob.glob(os.path.join(root, ext))  \n",
    "    df = pd.DataFrame(columns=('PDF_Name','Text'))\n",
    "    \"\"\"\"\n",
    "    3. enumerate files, and remove spaces\n",
    "    4. add compression and zip the files\n",
    "    5. save the zipped files to the local directory\n",
    "    \"\"\"\n",
    "    for k,v in enumerate(files):\n",
    "        text = extract_text(v)\n",
    "        text = text.replace(\"\\n\",\"\")\n",
    "        df.loc[k] = [v,text] \n",
    "    \"\"\"\n",
    "    clean the text using texthero to make suitable for machine learning models\n",
    "    process: lowercase, remove: whitespaces, punctuation, diacritics, stopwords\n",
    "    \"\"\"\n",
    "    ## clean the text\n",
    "    df = df.pipe(cleanText)\n",
    "    ## zip and compress the data files\n",
    "    compression_opts = dict(method='zip', archive_name='out.csv')  \n",
    "    df.to_csv('out.zip',sep=',', index=True, compression=compression_opts) \n",
    "    ## print the records as a dictionary\n",
    "    return df.to_dict('records')\n",
    "\n",
    "@app.route(\"/\")\n",
    "def main(args):\n",
    "    \"\"\"\"\n",
    "    1. enter the url to parse\n",
    "    2. add the file path\n",
    "    3. extract and parse the url using requests\n",
    "    \"\"\"\n",
    "    base_url = args.url\n",
    "    if args.folder_path:\n",
    "        folder_path = args.folder_path\n",
    "    else:\n",
    "        folder_path = args.folder_path\n",
    "        if not os.path.exists(args.folder_path):\n",
    "            os.mkdir(args.folder_path)\n",
    "    response = requests.get(base_url)\n",
    "    soup = BeautifulSoup(response.text, \"html.parser\")     \n",
    "    for link in soup.select(\"a[href$='.pdf']\"):\n",
    "        filename = os.path.join(folder_path,link['href'].split('/')[-1])\n",
    "        with open(filename, 'wb') as f:\n",
    "            f.write(requests.get(urljoin(base_url,link['href'])).content)\n",
    "    \"\"\"\n",
    "    4. extract the text and place in local file\n",
    "    5. run application\n",
    "    \"\"\"\n",
    "    print(pdf_to_text(args))\n",
    "    app.run(host=\"0.0.0.0\", port=int(\"5000\"), debug=True)\n",
    "    \n",
    "if __name__ == \"__main__\":\n",
    "    parser = argparse.ArgumentParser()\n",
    "    parser.add_argument(\"--url\", required=True, help='enter url to parse', type=str)\n",
    "    parser.add_argument(\"--folder_path\",help='store storage path', type=str)\n",
    "    args = parser.parse_args()\n",
    "    main(args)"
   ]
  },
  {
   "cell_type": "code",
   "execution_count": 10,
   "metadata": {
    "scrolled": false
   },
   "outputs": [
    {
     "data": {
      "text/plain": [
       "'united statessecurities  exchange commissionwashington   c  20459omb approvalnot subject  omb clearance  44 u  c 3501  et  seq form 8 mirrevocable appointment  agent  service  process pleadings   papers  corporate non residentbroker  dealerthis form shall  filed  duplicate original1      corporation  name  corporation incorporated   laws     name  jurisdiction  whose laws corporation  organized    principal place  business     address  full hereby designates  appoints  without power  revocation   united states securities  exchange commission   agent  said corporation upon  may  served  process  pleadings    papers   civil suit  action brought     appropriate court   place subject   jurisdiction   united states   respect   cause  action    accrues   period beginning   registration   broker  dealer becomes effective pursuant  section 15   securities exchange act  1934   rules  regulations thereunder  ending either   registration  cancelled  revoked     commission receives  notice  withdraw   registration  whichever  earlier b  arises    activity    place subject   jurisdiction   united states  occurring  connection   conduct  business  said corporation   broker  dealer   c   founded  directly  indirectly  upon provisions   securities act  1933   securities exchange act  1934   trust indenture act  1939   investment company act  1940   investment advisers act  1940    rule  regulation    said acts  and2  said corporation     name  corporation hereby consents  stipulates  agrees  without power  revocation        civil suit  action may  commenced     service  process upon  commission   forwarding   commission   copy thereof  registered mail     last address  record filed     commission   b    service  process  pleadings    papers upon  commission   forwarding   commission   copy thereof  registered mail   last address  record filed     commission shall  taken  held   courts    valid  binding   due personal service   made upon    c   service upon  commission may  effected  delivering copies  said process  pleadings   papers   secretary   commission     person designated     purpose     certificate   secretary   commission     person reciting  said process  pleadings   papers  received   commission    copy thereof  forwarded  said corporation   last address  record filed     commission shall constitute evidence   service upon   witness whereof   president  secretary  said corporation        authority  direction  name  corporation   board  directors  said corporation   executed  irrevocable power  attorney  consent  stipulation  agreement     behalf  said corporation     day       attest      secretary   corporate name corporate seal     president sec 877  6 12  note   person executing  irrevocable power  attorney  consent  stipulation  agreement  appear   person authorized  administer acknowledgments   jurisdiction     executed  acknowledge   executed   behalf  said corporation   free  voluntary act   acknowledgment     form prescribed  law   jurisdiction     executed   form  acknowledgment suggested    used     consistent   requirements   law   jurisdiction  failure   acknowledgment  meet applicable requirements shall  affect  validity  effect   foregoing irrevocable power  attorney  consent  stipulation  agreement province   state   county   ssi     name      said county    official position  person administering acknowledgement   province   state  aforesaid   hereby certify     name  president    personally appeared    day  stated    name  secretary   respectively  president  secretary      name  corporation      persons named   foregoing instrument   president  secretary  said corporation      duly authorized  execute said instrument   corporation     signed  sealed said instrument    behalf  said corporation   free  voluntary act   uses  purposes therein set forth  given   hand  seal    day           signature  official seal     official position  commission   office  expires   date    partnership  form   appropriately revised  use   broker dealer    unincorporated organization  association  sec 877  6 12  certification  resolution authorizing irrevocable appointmentby corporation  agent  service  process  pleadings   papers   duly constituted meeting   board  directors     corporation duly organized  existing  name  corporation   laws     name  jurisdiction  whose laws corporation  organized held   office  said corporation     address  full    day       following resolution  adopted    resolved   president  secretary   corporation        hereby  authorized  directed  execute  name  corporation  legal form   deliver   united states securities  exchange commission  behalf   corporation   form  may  prescribed   acceptable   united states securities  exhange commission 1   power  attorney designated  appointing  without power  revocation   united states securities  exchange commission   agent   corporation upon  may  served  process pleadings   papers   civil suit  action bought   corporation   appropriate court   place subject   jurisdiction   united states   respect   cause  action    accrues   period beginning   corporation  registration   broker  dealer becomes effective pursuant  section 15   securities exchange act  1934   rules  regulations thereunder  ending either   registration  cancelled  revoked     commission receives  notice  withdraw   registration  whichever  earlier b  arises    activity   anyplace subject   jurisdiction   united states  occurring  connection   conduct  business   corporation   broker  dealer   c   founded  directly  indirectly  upon provisions   securities act  1933   securities exchange act  1934   trust indenture act  1939   investment company act  1940   investment advisers act  1940    rule  regulation    said acts  and2   stipulation  consent  agreement   likewise without power  revocation        civil suit  action may  commenced   corporation   service  process upon  commission   forwarding   commission   copy thereof  registered mail   corporation   last address  record filed   corporation   commission   b    service  process  pleadings    papers upon  commission   forwarding   commission   copy thereof  registered mail   corporation   last address  record filed   corporation   commission shall  taken  held   courts    valid  binding   due personal service   made upon  corporation   c   service upon  commission may  effected  delivering copies  said process  pleadings   papers   secretary   commission     person designated     purpose     certificate   secretary   commission     person reciting  said process  pleadings   papers  received   commission    copy thereof  forwarded   corporation   last address  record filed     commission shall constitute evidence   service upon   province   state   county   ssi     duly sworn  depose  say   name  secretary   secretary       foregoing  name  corporation  true  correct copy   resolution adopted   board  directors  said corporation     dayof          appears   records  said corporation    custody  control sec 877  6 12   witness whereof    hereunto set  hand  affixed  seal  said corporation corporate seal     secretary subscribe  sworn       day       seal     name  official     official position  commission   office  expires   date  note   secretary   corporation  appear    person authorized  administer oaths   jurisdiction     executed  duly swear     secretary   corporation    resolution   true  correct copy   resolution adopted   board  directors  said corporation   form  affidavit suggested    used     consistent   requirements   law   jurisdiction     executed  sec 877  6 12 '"
      ]
     },
     "execution_count": 10,
     "metadata": {},
     "output_type": "execute_result"
    }
   ],
   "source": [
    "df = pd.read_csv('<your-path-to-project-files>\\app\\out.csv')\n",
    "df.clean_text[5]"
   ]
  },
  {
   "cell_type": "code",
   "execution_count": null,
   "metadata": {},
   "outputs": [],
   "source": []
  }
 ],
 "metadata": {
  "kernelspec": {
   "display_name": "Python 3",
   "language": "python",
   "name": "python3"
  },
  "language_info": {
   "codemirror_mode": {
    "name": "ipython",
    "version": 3
   },
   "file_extension": ".py",
   "mimetype": "text/x-python",
   "name": "python",
   "nbconvert_exporter": "python",
   "pygments_lexer": "ipython3",
   "version": "3.7.4"
  }
 },
 "nbformat": 4,
 "nbformat_minor": 2
}
